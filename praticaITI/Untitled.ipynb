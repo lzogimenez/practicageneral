{
 "cells": [
  {
   "cell_type": "markdown",
   "metadata": {},
   "source": [
    "# Guía 3: ITI"
   ]
  },
  {
   "cell_type": "markdown",
   "metadata": {},
   "source": [
    "### 1. Se tiene un archivo con 10 caracteres en total formado por tres caracteres distintos (ej: ABC). De todos los archivos posibles con estas características mostrar el archivo de máxima entropía que se pueda comprimir mejor usando LZ77. No es necesario comprimir el archivo."
   ]
  },
  {
   "cell_type": "markdown",
   "metadata": {},
   "source": [
    "##### Recuerdo que LZ77 busca repeticiones de una longitud finita, separando por ceros a los caracteres planos y en representando repeticiones en formato << 1, longitud, desfasaje >>\n",
    "\n",
    "##### Ademas por ser un compresor por repetición si me piden máxima entropia, ésto seria que las probabilidades de cada carácter dentro de nuestro archivo sean parejas"
   ]
  },
  {
   "cell_type": "markdown",
   "metadata": {},
   "source": [
    "<img src=\"xlogx.png\" alt=\"xlogx\" width=\"200\"/>"
   ]
  },
  {
   "cell_type": "markdown",
   "metadata": {},
   "source": [
    "\n",
    "###### (1) Propongo: AABBCAABBC\n",
    "\n",
    "###### (1) Comprimido: 0A 0A 0B 0B 0C 155\n",
    "\n",
    "###### (2) Propongo: ABCABCABCA\n",
    "\n",
    "###### (2) Comprimido: 0A 0B 0C 133 133 0A\n",
    "\n",
    "###### ------------------------------\n",
    "\n",
    "###### Me quedo con (2), pues posee mejor distribuciond de las probabilidades de cada caracter, mas allá de que el comprimido sea distinto, entonces \n",
    "\n",
    "#### Propongo: ABCABCABCX con X = A / B / C"
   ]
  },
  {
   "cell_type": "markdown",
   "metadata": {},
   "source": [
    "### 2. Explique en que casos sería una buena idea usar un compresor aritmético estático de orden 3."
   ]
  },
  {
   "cell_type": "markdown",
   "metadata": {},
   "source": [
    "##### Por ser de orden 3: Seria conveniente en aquellos casos donde tiene sentido estudiar que caracter puede suceder en el contexto de los 3 caracteres anteriores\n",
    "\n",
    "##### Por ser aritmetico (estadístico): Seria conveniente en aquellos casos donde existe una distribucion \"pareja\" de las probabilidade de cada caracter\n",
    "\n",
    "##### Sería una buena idea entonces, para casos donde los contextos sean útiles para predecir caracteres que se encuentran distribuidos equitativamente a lo largo del archivo.\n",
    "\n",
    "##### Ejemplo concreto: Consultar\n",
    "\n"
   ]
  },
  {
   "cell_type": "markdown",
   "metadata": {},
   "source": [
    "### 3. Tenemos un compresor aritmético dinámico de orden 0 que trabaja procesando bit por bit. Si comprimimos un archivo que está formado por una serie de 1000 bits en 1 y luego dos bits en 0. ¿cuántos bits ocupará el archivo comprimido?\n",
    "\n",
    "#### 11111111111111.....100"
   ]
  },
  {
   "cell_type": "code",
   "execution_count": null,
   "metadata": {},
   "outputs": [],
   "source": []
  }
 ],
 "metadata": {
  "kernelspec": {
   "display_name": "Python 3",
   "language": "python",
   "name": "python3"
  },
  "language_info": {
   "codemirror_mode": {
    "name": "ipython",
    "version": 3
   },
   "file_extension": ".py",
   "mimetype": "text/x-python",
   "name": "python",
   "nbconvert_exporter": "python",
   "pygments_lexer": "ipython3",
   "version": "3.7.3"
  }
 },
 "nbformat": 4,
 "nbformat_minor": 4
}
